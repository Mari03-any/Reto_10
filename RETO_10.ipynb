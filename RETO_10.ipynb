{
  "nbformat": 4,
  "nbformat_minor": 0,
  "metadata": {
    "colab": {
      "provenance": []
    },
    "kernelspec": {
      "name": "python3",
      "display_name": "Python 3"
    },
    "language_info": {
      "name": "python"
    }
  },
  "cells": [
    {
      "cell_type": "markdown",
      "source": [
        "1.Desarrolle un programa que permita realizar la suma/resta de matrices. El programa debe validar las condiciones necesarias para ejecutar la operación.\n",
        "\n"
      ],
      "metadata": {
        "id": "5FGeqoT8hHiU"
      }
    },
    {
      "cell_type": "code",
      "source": [
        "def leer_matriz(filas, columnas):\n",
        "    # Función para leer una matriz ingresada por el usuario\n",
        "    matriz = [] # Lista vacia inicial\n",
        "    for i in range(filas):\n",
        "        print(\"Ingrese la fila\", i + 1, \"separada por espacios:\") # Se ingresa los valores ingresados en la fila\n",
        "        fila = input().split()\n",
        "        while len(fila) != columnas:  # Verifica que la fila tenga la cantidad correcta de columnas\n",
        "            print(\"Número de elementos incorrecto. Intente de nuevo.\") # Si es diferente marca un mensaje de aviso\n",
        "            print(\"Ingrese la fila\", i + 1, \"separada por espacios:\")\n",
        "            fila = input().split()\n",
        "        matriz.append([int(num) for num in fila])  # Convierte los valores a enteros y los almacena en la matriz\n",
        "    return matriz\n",
        "\n",
        "def imprimir_matriz(matriz):\n",
        "    # Función para imprimir una matriz de manera legible\n",
        "    for fila in matriz:\n",
        "        for num in fila:\n",
        "            print(num, end=' ')  # Imprime cada número en la fila con un espacio entre ellos\n",
        "        print()  # Salto de línea al final de cada fila\n",
        "\n",
        "def sumar_matrices(matriz1, matriz2):\n",
        "    # Función para sumar dos matrices\n",
        "    return [[matriz1[i][j] + matriz2[i][j] for j in range(len(matriz1[0]))] for i in range(len(matriz1))]\n",
        "\n",
        "def restar_matrices(matriz1, matriz2):\n",
        "    # Función para restar dos matrices\n",
        "    return [[matriz1[i][j] - matriz2[i][j] for j in range(len(matriz1[0]))] for i in range(len(matriz1))]\n",
        "\n",
        "def main():\n",
        "    # Función principal del programa\n",
        "    print(\"Ingrese el número de filas:\")\n",
        "    filas = int(input()) # Agrega el numero de filas\n",
        "    print(\"Ingrese el número de columnas:\")\n",
        "    columnas = int(input()) # Agrega el numero de columnas\n",
        "\n",
        "    print(\"Ingrese la primera matriz:\")\n",
        "    matriz1 = leer_matriz(filas, columnas)\n",
        "\n",
        "    print(\"Ingrese la segunda matriz:\")\n",
        "    matriz2 = leer_matriz(filas, columnas)\n",
        "\n",
        "    # Realiza la suma y la resta de matrices\n",
        "    suma = sumar_matrices(matriz1, matriz2)\n",
        "    resta = restar_matrices(matriz1, matriz2)\n",
        "\n",
        "    # Imprime los resultados finales\n",
        "    print(\"Resultado de la suma:\")\n",
        "    imprimir_matriz(suma)\n",
        "\n",
        "    print(\"Resultado de la resta:\")\n",
        "    imprimir_matriz(resta)\n",
        "\n",
        "if __name__ == \"__main__\":\n",
        "    main()"
      ],
      "metadata": {
        "colab": {
          "base_uri": "https://localhost:8080/"
        },
        "id": "wOZHMNZvkYmf",
        "outputId": "efc07959-456a-4f0e-ae56-14f8118f4023"
      },
      "execution_count": 3,
      "outputs": [
        {
          "output_type": "stream",
          "name": "stdout",
          "text": [
            "Ingrese el número de filas:\n",
            "3\n",
            "Ingrese el número de columnas:\n",
            "3\n",
            "Ingrese la primera matriz:\n",
            "Ingrese la fila 1 separada por espacios:\n",
            "2 3 6 \n",
            "Ingrese la fila 2 separada por espacios:\n",
            "7 8 3 \n",
            "Ingrese la fila 3 separada por espacios:\n",
            "4 5 1 \n",
            "Ingrese la segunda matriz:\n",
            "Ingrese la fila 1 separada por espacios:\n",
            "5 0 5\n",
            "Ingrese la fila 2 separada por espacios:\n",
            "2 3 7 \n",
            "Ingrese la fila 3 separada por espacios:\n",
            "5 8 2 \n",
            "Resultado de la suma:\n",
            "7 3 11 \n",
            "9 11 10 \n",
            "9 13 3 \n",
            "Resultado de la resta:\n",
            "-3 3 1 \n",
            "5 5 -4 \n",
            "-1 -3 -1 \n"
          ]
        }
      ]
    },
    {
      "cell_type": "markdown",
      "source": [
        "2.Desarrolle un programa que permita realizar el producto de matrices. El programa debe validar las condiciones necesarias para ejecutar la operación."
      ],
      "metadata": {
        "id": "9w_n0hM3iCao"
      }
    },
    {
      "cell_type": "code",
      "source": [
        "def leer_matriz(filas, columnas):\n",
        "    # Función para leer una matriz ingresada por el usuario\n",
        "    matriz = []\n",
        "    for i in range(filas):\n",
        "        fila = input(f\"Ingrese la fila {i+1} separada por espacios: \").split() # Evalua los numeros ingresados por el usuario y los agrega por fila\n",
        "        while len(fila) != columnas:  # Verifica que la fila tenga la cantidad correcta de columnas\n",
        "            print(\"Número de elementos incorrecto. Intente de nuevo.\")\n",
        "            fila = input(f\"Ingrese la fila {i+1} separada por espacios: \").split()\n",
        "        matriz.append([int(num) for num in fila])  # Convierte los valores a enteros y los almacena en la matriz\n",
        "    return matriz\n",
        "\n",
        "def imprimir_matriz(matriz):\n",
        "    # Función para imprimir una matriz de manera legible\n",
        "    for fila in matriz:\n",
        "        for num in fila:\n",
        "            print(num, end=' ')  # Imprime cada número en la fila con un espacio entre ellos\n",
        "        print()  # Salto de línea al final de cada fila\n",
        "\n",
        "def multiplicar_matrices(matriz1, matriz2):\n",
        "    # Función para multiplicar dos matrices\n",
        "    filas_resultado = len(matriz1)  # Número de filas de la matriz resultante\n",
        "    columnas_resultado = len(matriz2[0])  # Número de columnas de la matriz resultante\n",
        "    resultado = [[0] * columnas_resultado for _ in range(filas_resultado)]  # Inicializa la matriz resultado con ceros\n",
        "\n",
        "    for i in range(filas_resultado):  # Recorre las filas de la primera matriz\n",
        "        for j in range(columnas_resultado):  # Recorre las columnas de la segunda matriz\n",
        "            for k in range(len(matriz2)):  # Recorre los elementos de la fila y la columna correspondiente\n",
        "                resultado[i][j] += matriz1[i][k] * matriz2[k][j]  # Realiza la multiplicación y la suma acumulativa\n",
        "\n",
        "    return resultado\n",
        "\n",
        "def main():\n",
        "    # Función principal del programa\n",
        "    filas1 = int(input(\"Ingrese el número de filas de la primera matriz: \"))\n",
        "    columnas1 = int(input(\"Ingrese el número de columnas de la primera matriz: \"))\n",
        "\n",
        "    print(\"Ingrese la primera matriz:\")\n",
        "    matriz1 = leer_matriz(filas1, columnas1) # Lee la primera matriz para efectuar la primera función\n",
        "\n",
        "    filas2 = int(input(\"Ingrese el número de filas de la segunda matriz: \"))\n",
        "    columnas2 = int(input(\"Ingrese el número de columnas de la segunda matriz: \"))\n",
        "\n",
        "    # Verifica que las dimensiones sean compatibles para la multiplicación de matrices\n",
        "    if columnas1 != filas2:\n",
        "        print(\"No se pueden multiplicar las matrices. El número de columnas de la primera matriz debe ser igual al número de filas de la segunda matriz.\")\n",
        "        return\n",
        "\n",
        "    print(\"Ingrese la segunda matriz:\")\n",
        "    matriz2 = leer_matriz(filas2, columnas2) # Lee la segunda matriz para efectuar la primera función\n",
        "\n",
        "    # Multiplica las matrices y muestra el resultado\n",
        "    resultado = multiplicar_matrices(matriz1, matriz2)\n",
        "    print(\"Resultado de la multiplicación:\")\n",
        "\n",
        "    imprimir_matriz(resultado)\n",
        "\n",
        "if __name__ == \"__main__\":\n",
        "    main()\n"
      ],
      "metadata": {
        "colab": {
          "base_uri": "https://localhost:8080/"
        },
        "id": "AkxyfuWriFi2",
        "outputId": "95322517-7e81-40bc-aaef-d82f1facf543"
      },
      "execution_count": 7,
      "outputs": [
        {
          "output_type": "stream",
          "name": "stdout",
          "text": [
            "Ingrese el número de filas de la primera matriz: 2\n",
            "Ingrese el número de columnas de la primera matriz: 2\n",
            "Ingrese la primera matriz:\n",
            "Ingrese la fila 1 separada por espacios: 3 4\n",
            "Ingrese la fila 2 separada por espacios: 6 9\n",
            "Ingrese el número de filas de la segunda matriz: 2\n",
            "Ingrese el número de columnas de la segunda matriz: 2\n",
            "Ingrese la segunda matriz:\n",
            "Ingrese la fila 1 separada por espacios: 5 6\n",
            "Ingrese la fila 2 separada por espacios: 7 2\n",
            "Resultado de la multiplicación:\n",
            "43 26 \n",
            "93 54 \n"
          ]
        }
      ]
    },
    {
      "cell_type": "markdown",
      "source": [
        "3.Desarrolle un programa que permita obtener la matriz transpuesta de una matriz ingresada. El programa debe validar las condiciones necesarias para ejecutar la operación."
      ],
      "metadata": {
        "id": "VFyirrFcje8a"
      }
    },
    {
      "cell_type": "code",
      "source": [
        "def leer_matriz(filas, columnas):\n",
        "    # Función para leer una matriz ingresada por el usuario\n",
        "    matriz = []\n",
        "    for i in range(filas):\n",
        "        print(\"Ingrese la fila\", i + 1, \"separada por espacios:\")  # Evalua los numeros ingresados por el usuario y los agrega por fila\n",
        "        fila = input().split()\n",
        "        while len(fila) != columnas:  # Verifica que la fila tenga la cantidad correcta de columnas\n",
        "            print(\"Número de elementos incorrecto. Intente de nuevo.\")\n",
        "            print(\"Ingrese la fila\", i + 1, \"separada por espacios:\")\n",
        "            fila = input().split()\n",
        "        matriz.append([int(num) for num in fila])  # Convierte los valores a enteros y los almacena en la matriz\n",
        "    return matriz\n",
        "\n",
        "def imprimir_matriz(matriz):\n",
        "    # Función para imprimir una matriz de manera legible\n",
        "    for fila in matriz:\n",
        "        for num in fila:\n",
        "            print(num, end=' ')  # Imprime cada número con un espacio\n",
        "        print()  # Salto de línea al final de cada fila\n",
        "\n",
        "def transponer_matriz(matriz):\n",
        "    # Función para obtener la matriz transpuesta\n",
        "    filas = len(matriz)\n",
        "    columnas = len(matriz[0])\n",
        "    return [[matriz[j][i] for j in range(filas)] for i in range(columnas)] # Evalua la matriz i y j por los rangos de filas y columnas\n",
        "\n",
        "def main():\n",
        "    # Función principal del programa\n",
        "    print(\"Ingrese el número de filas:\")\n",
        "    filas = int(input())\n",
        "    print(\"Ingrese el número de columnas:\")\n",
        "    columnas = int(input())\n",
        "\n",
        "    print(\"Ingrese la matriz:\")\n",
        "    matriz = leer_matriz(filas, columnas)\n",
        "\n",
        "    # Realiza la transposición de la matriz\n",
        "    transpuesta = transponer_matriz(matriz)\n",
        "\n",
        "    # Muestra el resultado final\n",
        "    print(\"Matriz original:\")\n",
        "    imprimir_matriz(matriz)\n",
        "\n",
        "    print(\"Matriz transpuesta:\")\n",
        "    imprimir_matriz(transpuesta)\n",
        "\n",
        "if __name__ == \"__main__\":\n",
        "    main()\n"
      ],
      "metadata": {
        "colab": {
          "base_uri": "https://localhost:8080/"
        },
        "id": "LDUG5hrxjmY3",
        "outputId": "2564012a-3361-4002-ea88-da8248772c9d"
      },
      "execution_count": 8,
      "outputs": [
        {
          "output_type": "stream",
          "name": "stdout",
          "text": [
            "Ingrese el número de filas:\n",
            "3\n",
            "Ingrese el número de columnas:\n",
            "3\n",
            "Ingrese la matriz:\n",
            "Ingrese la fila 1 separada por espacios:\n",
            "3 4 5\n",
            "Ingrese la fila 2 separada por espacios:\n",
            "3 2 \n",
            "Número de elementos incorrecto. Intente de nuevo.\n",
            "Ingrese la fila 2 separada por espacios:\n",
            "2 5 4\n",
            "Ingrese la fila 3 separada por espacios:\n",
            "0 7 5\n",
            "Matriz original:\n",
            "3 4 5 \n",
            "2 5 4 \n",
            "0 7 5 \n",
            "Matriz transpuesta:\n",
            "3 2 0 \n",
            "4 5 7 \n",
            "5 4 5 \n"
          ]
        }
      ]
    },
    {
      "cell_type": "markdown",
      "source": [
        "4.Desarrollar un programa que sume los elementos de una columna dada de una matriz."
      ],
      "metadata": {
        "id": "N53D4YgFm0XW"
      }
    },
    {
      "cell_type": "code",
      "source": [
        "def leer_matriz(filas, columnas):\n",
        "    # Función para leer una matriz ingresada por el usuario\n",
        "    matriz = []\n",
        "    for i in range(filas):\n",
        "        print(\"Ingrese la fila\", i + 1, \"separada por espacios:\") # Evalua cada valor ingresada en la fila con espacios\n",
        "        fila = input().split()\n",
        "        while len(fila) != columnas:  # Verifica que la fila tenga la cantidad correcta de columnas\n",
        "            print(\"Número de elementos incorrecto. Intente de nuevo.\")\n",
        "            print(\"Ingrese la fila\", i + 1, \"separada por espacios:\")\n",
        "            fila = input().split()\n",
        "        matriz.append([int(num) for num in fila])  # Convierte los valores a enteros y los almacena en la matriz\n",
        "    return matriz\n",
        "\n",
        "def sumar_columna(matriz, columna):\n",
        "    # Función para sumar los elementos de una columna dada\n",
        "    if columna < 0 or columna >= len(matriz[0]): # Evaluar el valor de la columna\n",
        "        print(\"Índice de columna fuera de rango.\")\n",
        "        return None # Si el valor no corresponde al condicional retorna nada\n",
        "    return sum(matriz[i][columna] for i in range(len(matriz)))\n",
        "\n",
        "def main():\n",
        "    # Función principal del programa\n",
        "    print(\"Ingrese el número de filas:\")\n",
        "    filas = int(input())\n",
        "    print(\"Ingrese el número de columnas:\")\n",
        "    columnas = int(input())\n",
        "\n",
        "    print(\"Ingrese la matriz:\")\n",
        "    matriz = leer_matriz(filas, columnas)\n",
        "\n",
        "    # Solicita la columna a sumar\n",
        "    print(\"Ingrese el índice de la columna a sumar (comenzando desde 0):\")\n",
        "    columna = int(input())\n",
        "    resultado = sumar_columna(matriz, columna)\n",
        "\n",
        "    if resultado is not None: # Solo si los valores de la columna están correctos imprime los resultados\n",
        "        print(\"Suma de la columna\", columna, \":\", resultado)\n",
        "\n",
        "if __name__ == \"__main__\":\n",
        "    main()\n"
      ],
      "metadata": {
        "colab": {
          "base_uri": "https://localhost:8080/"
        },
        "id": "mLD-hSndqQ6b",
        "outputId": "1ca2e75c-9728-49f1-9116-ba53ff652845"
      },
      "execution_count": 13,
      "outputs": [
        {
          "output_type": "stream",
          "name": "stdout",
          "text": [
            "Ingrese el número de filas:\n",
            "4\n",
            "Ingrese el número de columnas:\n",
            "4\n",
            "Ingrese la matriz:\n",
            "Ingrese la fila 1 separada por espacios:\n",
            "4 5 6 3\n",
            "Ingrese la fila 2 separada por espacios:\n",
            "1 9 7 3\n",
            "Ingrese la fila 3 separada por espacios:\n",
            "4 3 9 2\n",
            "Ingrese la fila 4 separada por espacios:\n",
            "2 5 3 2\n",
            "Ingrese el índice de la columna a sumar (comenzando desde 0):\n",
            "0\n",
            "Suma de la columna 0 : 11\n"
          ]
        }
      ]
    },
    {
      "cell_type": "markdown",
      "source": [
        "5.Desarrollar un programa que sume los elementos de una fila dada de una matriz"
      ],
      "metadata": {
        "id": "seO4m-QUqTdM"
      }
    },
    {
      "cell_type": "code",
      "source": [
        "def leer_matriz(filas, columnas):\n",
        "    # Función para leer una matriz ingresada por el usuario\n",
        "    matriz = []\n",
        "    for i in range(filas):\n",
        "        print(\"Ingrese la fila\", i + 1, \"separada por espacios:\") # Evalua cada valor ingresado con espacios\n",
        "        fila = input().split()\n",
        "        while len(fila) != columnas:  # Verifica que la fila tenga la cantidad correcta de columnas\n",
        "            print(\"Número de elementos incorrecto. Intente de nuevo.\")\n",
        "            print(\"Ingrese la fila\", i + 1, \"separada por espacios:\")\n",
        "            fila = input().split() # De los numeros ingresados le quita los espacios\n",
        "        matriz.append([int(num) for num in fila])  # Convierte los valores a enteros y los almacena en la matriz\n",
        "    return matriz\n",
        "\n",
        "def sumar_fila(matriz, fila):\n",
        "    # Función para sumar los elementos de una fila dada\n",
        "    if fila < 0 or fila >= len(matriz):  # Evaluar el valor de la fila\n",
        "        print(\"Índice de fila fuera de rango.\")\n",
        "        return None # Si el valor no corresponde al condicional retorna nada\n",
        "    return sum(matriz[fila]) #Ingresa la suma de la fila\n",
        "\n",
        "def main():\n",
        "    # Función principal del programa\n",
        "    print(\"Ingrese el número de filas:\")\n",
        "    filas = int(input())\n",
        "    print(\"Ingrese el número de columnas:\")\n",
        "    columnas = int(input())\n",
        "\n",
        "    print(\"Ingrese la matriz:\")\n",
        "    matriz = leer_matriz(filas, columnas)\n",
        "\n",
        "    # Solicita la fila a sumar\n",
        "    print(\"Ingrese el índice de la fila a sumar (comenzando desde 0):\")\n",
        "    fila = int(input())\n",
        "    resultado = sumar_fila(matriz, fila)\n",
        "\n",
        "    if resultado is not None: # Solo si los valores de la fila están correctos imprime los resultados\n",
        "        print(\"Suma de la fila\", fila, \":\", resultado)\n",
        "\n",
        "if __name__ == \"__main__\":\n",
        "    main()\n"
      ],
      "metadata": {
        "colab": {
          "base_uri": "https://localhost:8080/"
        },
        "id": "TjJzfXv_q7AG",
        "outputId": "47ea84e8-ab2e-42b8-9771-2fa6f7bc46c5"
      },
      "execution_count": 14,
      "outputs": [
        {
          "output_type": "stream",
          "name": "stdout",
          "text": [
            "Ingrese el número de filas:\n",
            "3\n",
            "Ingrese el número de columnas:\n",
            "3\n",
            "Ingrese la matriz:\n",
            "Ingrese la fila 1 separada por espacios:\n",
            "2 4 5\n",
            "Ingrese la fila 2 separada por espacios:\n",
            "6 7 4\n",
            "Ingrese la fila 3 separada por espacios:\n",
            "6 7 5\n",
            "Ingrese el índice de la fila a sumar (comenzando desde 0):\n",
            "1\n",
            "Suma de la fila 1 : 17\n"
          ]
        }
      ]
    }
  ]
}